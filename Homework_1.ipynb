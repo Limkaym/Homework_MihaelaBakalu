{
 "cells": [
  {
   "cell_type": "code",
   "execution_count": 2,
   "id": "6d1d5779",
   "metadata": {},
   "outputs": [
    {
     "name": "stdout",
     "output_type": "stream",
     "text": [
      "Введите сторону треугольника: 2\n",
      "Введите сторону треугольника: 4\n",
      "Введите сторону треугольника: 3\n",
      "Треугольник произвольный\n",
      "Треугольник остроугольный\n"
     ]
    }
   ],
   "source": [
    "def angle(a,b,c): \n",
    "    \n",
    "    maxst=max(a,b,c)\n",
    "    minst=min(a,b,c)\n",
    "    sredst=0\n",
    "    \n",
    "    if a>=minst and a<=maxst:\n",
    "        sredst=a\n",
    "    if b>=minst and b<=maxst:\n",
    "        sredst=b\n",
    "    if c>=minst and c<=maxst:\n",
    "        sredst=c\n",
    "    cos=(minst+sredst-maxst)/(2*sredst*minst)\n",
    "    return cos\n",
    "\n",
    "\n",
    "\n",
    "a=int(input('Введите сторону треугольника: '))\n",
    "b=int(input('Введите сторону треугольника: '))\n",
    "c=int(input('Введите сторону треугольника: '))\n",
    "\n",
    "\n",
    "\n",
    "if a+b>c and a+c>b and c+b>a:\n",
    "    \n",
    "    if a==b and b==c:\n",
    "        print('Треугольник равносторонний')\n",
    "        \n",
    "    elif a==b or b==c or a==c:\n",
    "        print('Треугольник равнобедренный')\n",
    "        \n",
    "    else:\n",
    "        print('Треугольник произвольный')\n",
    "        \n",
    "\n",
    "    if angle(a,b,c) > 0:\n",
    "        print('Треугольник остроугольный')\n",
    "        \n",
    "    elif angle(a,b,c) == 0:\n",
    "        print('Треугольник прямоугольный')\n",
    "        \n",
    "    else:\n",
    "        print('Треугольник тупоугольный')\n",
    "        \n",
    "        \n",
    "else:\n",
    "    print('Нельзя построить треугольник')\n"
   ]
  },
  {
   "cell_type": "code",
   "execution_count": null,
   "id": "fc99b9f6",
   "metadata": {},
   "outputs": [],
   "source": []
  },
  {
   "cell_type": "code",
   "execution_count": null,
   "id": "52c837b7",
   "metadata": {},
   "outputs": [],
   "source": []
  }
 ],
 "metadata": {
  "kernelspec": {
   "display_name": "Python 3 (ipykernel)",
   "language": "python",
   "name": "python3"
  },
  "language_info": {
   "codemirror_mode": {
    "name": "ipython",
    "version": 3
   },
   "file_extension": ".py",
   "mimetype": "text/x-python",
   "name": "python",
   "nbconvert_exporter": "python",
   "pygments_lexer": "ipython3",
   "version": "3.9.7"
  }
 },
 "nbformat": 4,
 "nbformat_minor": 5
}
